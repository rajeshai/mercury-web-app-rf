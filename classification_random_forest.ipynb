{
 "cells": [
  {
   "cell_type": "raw",
   "id": "ec5c3616",
   "metadata": {},
   "source": [
    "---\n",
    "title: Classification - Random Forest Analysis\n",
    "description: My first notebook in Mercury\n",
    "show-code: False\n",
    "params:\n",
    "    n_estimators:\n",
    "        label: Number of trees in the forest\n",
    "        input: slider\n",
    "        value: 100\n",
    "        min: 10\n",
    "        max: 200\n",
    "    max_depth:\n",
    "        label: The maximum depth of the tree\n",
    "        input: slider\n",
    "        value: 1\n",
    "        min: 1\n",
    "        max: 6\n",
    "    bootstrap:\n",
    "        label: Bootstrap\n",
    "        input: checkbox\n",
    "        value: True\n",
    "    metrics_list:\n",
    "        label: Choose the metrics evaluation plot\n",
    "        input: select\n",
    "        value: Confusion Matrix\n",
    "        choices: [Confusion Matrix, ROC Curve, Precision-Recall Curve]\n",
    "        multi: True\n",
    "    \n",
    "---"
   ]
  },
  {
   "cell_type": "code",
   "execution_count": null,
   "id": "c4dddb19",
   "metadata": {},
   "outputs": [],
   "source": [
    "import pandas as pd\n",
    "import numpy as np\n",
    "import matplotlib.pyplot as plt\n",
    "from sklearn.ensemble import RandomForestClassifier\n",
    "from sklearn.preprocessing import LabelEncoder\n",
    "from sklearn.model_selection import train_test_split\n",
    "from sklearn.metrics import plot_confusion_matrix, plot_roc_curve, plot_precision_recall_curve\n",
    "from sklearn.metrics import precision_score, recall_score, accuracy_score\n",
    "from termcolor import colored\n",
    "import warnings\n",
    "warnings.filterwarnings(\"ignore\")"
   ]
  },
  {
   "cell_type": "code",
   "execution_count": null,
   "id": "81ee0cec",
   "metadata": {},
   "outputs": [],
   "source": [
    "n_estimators = 100\n",
    "max_depth = 1\n",
    "bootstrap = 'True'\n",
    "metrics_list = 'Confusion Matrix'"
   ]
  },
  {
   "cell_type": "code",
   "execution_count": null,
   "id": "ea8acc1f",
   "metadata": {},
   "outputs": [],
   "source": [
    "data = pd.read_csv('mushroom.csv')\n",
    "print(colored('Overview of Dataset', 'green', attrs=['bold']))\n",
    "data.head()"
   ]
  },
  {
   "cell_type": "code",
   "execution_count": null,
   "id": "f7ece465",
   "metadata": {},
   "outputs": [],
   "source": [
    "def load_data():\n",
    "    label = LabelEncoder()\n",
    "    for col in data.columns:\n",
    "        data[col] = label.fit_transform(data[col])\n",
    "    return data"
   ]
  },
  {
   "cell_type": "code",
   "execution_count": null,
   "id": "4d3d57a8",
   "metadata": {},
   "outputs": [],
   "source": [
    "def split(df):\n",
    "    y = df.type\n",
    "    x = df.drop(columns=['type']) \n",
    "    x_train, x_test, y_train, y_test = train_test_split(x,y,test_size=0.3,random_state=0)  \n",
    "    return x_train, x_test, y_train, y_test"
   ]
  },
  {
   "cell_type": "code",
   "execution_count": null,
   "id": "84f2ff9f",
   "metadata": {},
   "outputs": [],
   "source": [
    "def plot_metrics(metrics_list):\n",
    "        if 'Confusion Matrix' in metrics_list:\n",
    "            plot_confusion_matrix(model, x_test, y_test, display_labels=class_names)\n",
    "            plt.title(\"Confusion Matrix\")\n",
    "            plt.show()\n",
    "        if 'ROC Curve' in metrics_list:\n",
    "            plot_roc_curve(model, x_test, y_test)\n",
    "            plt.title(\"ROC Curve\")\n",
    "            plt.show()\n",
    "        if 'Precision-Recall Curve' in metrics_list:\n",
    "            plot_precision_recall_curve(model, x_test, y_test)\n",
    "            plt.title(\"Precision-Recall Curve\")\n",
    "            plt.show()"
   ]
  },
  {
   "cell_type": "code",
   "execution_count": null,
   "id": "72921b10",
   "metadata": {},
   "outputs": [],
   "source": [
    "df = load_data()\n",
    "x_train, x_test, y_train,y_test = split(df)\n",
    "class_names = ['edible', 'poisonous']"
   ]
  },
  {
   "cell_type": "code",
   "execution_count": null,
   "id": "5405937f",
   "metadata": {},
   "outputs": [],
   "source": [
    "model = RandomForestClassifier(n_estimators=n_estimators, max_depth=max_depth,bootstrap=bootstrap,n_jobs=-1)\n",
    "model.fit(x_train,y_train)\n",
    "y_pred = model.predict(x_test)"
   ]
  },
  {
   "cell_type": "markdown",
   "id": "39b67364",
   "metadata": {},
   "source": [
    "### Accuracy of the model"
   ]
  },
  {
   "cell_type": "code",
   "execution_count": null,
   "id": "40f4de45",
   "metadata": {},
   "outputs": [],
   "source": [
    "print(\"Accuracy: \", accuracy_score(y_test,y_pred).round(2))"
   ]
  },
  {
   "cell_type": "markdown",
   "id": "54b3a55b",
   "metadata": {},
   "source": [
    "### Precision Score of the model"
   ]
  },
  {
   "cell_type": "code",
   "execution_count": null,
   "id": "be57fe0e",
   "metadata": {},
   "outputs": [],
   "source": [
    "print(\"Precison: \", precision_score(y_test, y_pred, labels=class_names).round(2))"
   ]
  },
  {
   "cell_type": "markdown",
   "id": "5c0bcc74",
   "metadata": {},
   "source": [
    "### Recall score of the model"
   ]
  },
  {
   "cell_type": "code",
   "execution_count": null,
   "id": "5952de34",
   "metadata": {
    "scrolled": false
   },
   "outputs": [],
   "source": [
    "print(\"Recall: \",recall_score(y_test, y_pred, labels=class_names).round(2))"
   ]
  },
  {
   "cell_type": "markdown",
   "id": "95f240d2",
   "metadata": {},
   "source": [
    "### Plot Metrics"
   ]
  },
  {
   "cell_type": "code",
   "execution_count": null,
   "id": "6fd6197a",
   "metadata": {},
   "outputs": [],
   "source": [
    "plot_metrics(metrics_list)"
   ]
  },
  {
   "cell_type": "code",
   "execution_count": null,
   "id": "506707c5",
   "metadata": {},
   "outputs": [],
   "source": []
  }
 ],
 "metadata": {
  "kernelspec": {
   "display_name": "Python 3 (ipykernel)",
   "language": "python",
   "name": "python3"
  },
  "language_info": {
   "codemirror_mode": {
    "name": "ipython",
    "version": 3
   },
   "file_extension": ".py",
   "mimetype": "text/x-python",
   "name": "python",
   "nbconvert_exporter": "python",
   "pygments_lexer": "ipython3",
   "version": "3.8.8"
  }
 },
 "nbformat": 4,
 "nbformat_minor": 5
}
